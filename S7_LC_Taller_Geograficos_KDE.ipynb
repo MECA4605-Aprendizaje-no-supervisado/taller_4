{
 "cells": [
  {
   "cell_type": "markdown",
   "id": "05ab9b9a",
   "metadata": {},
   "source": [
    "<div >\n",
    "<img src = \"figs/taller-meca-aprendizaje no supervisado_banner 1169 x 200 px -05.png\" />\n",
    "</div>"
   ]
  },
  {
   "cell_type": "markdown",
   "id": "2b151b20",
   "metadata": {},
   "source": [
    "# Caso-taller:  Analizando el Delito en Chicago"
   ]
  },
  {
   "cell_type": "markdown",
   "id": "e0d05eac",
   "metadata": {},
   "source": [
    "En este caso-taller vamos a utilizar datos geográficos y estimación de densidad de kernel para analizar delitos en Chicago. Esta ciudad es muy famosa no sólo por haber sido el hogar del mafioso Al Capone, sino también por sus altas tasas de delitos. \n",
    "\n",
    "Para este taller obtuve datos del portal de la [ciudad de Chicago](https://www.chicago.gov/city/en/dataset/crime.html). La base de datos fue traducida y modificada para nuestras necesidades. Esta contiene todos los homicidios y robos que sucedieron entre el 1 de junio y el 31 de agosto de 2019.\n"
   ]
  },
  {
   "cell_type": "markdown",
   "id": "892acd2b",
   "metadata": {},
   "source": [
    "## Instrucciones generales\n",
    "\n",
    "1. Para desarrollar el *cuaderno* primero debe descargarlo.\n",
    "\n",
    "2. Para responder cada inciso deberá utilizar el espacio debidamente especificado.\n",
    "\n",
    "3. La actividad será calificada sólo si sube el *cuaderno* de jupyter notebook con extensión `.ipynb` en la actividad designada como \"entrega calificada por el personal\".\n",
    "\n",
    "4. El archivo entregado debe poder ser ejecutado localmente por el tutor. Sea cuidadoso con la especificación de la ubicación de los archivos de soporte, guarde la carpeta de datos en el mismo `path` de su cuaderno, por ejemplo: `data`."
   ]
  },
  {
   "cell_type": "markdown",
   "id": "014e89b0",
   "metadata": {},
   "source": [
    "## Desarrollo\n"
   ]
  },
  {
   "cell_type": "markdown",
   "id": "611a45ca",
   "metadata": {},
   "source": [
    "### 1.Carga de datos \n",
    "\n",
    "#### 1.1. Delitos\n",
    "\n",
    "En la carpeta `data` se encuentra el archivo `Chicago_delitos_verano_2019.csv` cargue estos datos en su *cuaderno*. Describa brevemente el contenido de la base."
   ]
  },
  {
   "cell_type": "code",
   "execution_count": null,
   "id": "a993f354",
   "metadata": {},
   "outputs": [],
   "source": [
    "# Utilice este espacio para escribir el código."
   ]
  },
  {
   "cell_type": "markdown",
   "id": "a3aabed1",
   "metadata": {},
   "source": [
    "(Utilice este espacio para describir su procedimiento)"
   ]
  },
  {
   "cell_type": "markdown",
   "id": "c915f045",
   "metadata": {},
   "source": [
    "#### 1.2. Barrios de Chicago\n",
    "\n",
    "También en la carpeta `data` se encuentran los archivos con los polígonos de las áreas comunitarias en un archivo comprimido llamado `Areas_comunitarias_Chicago.zip`. Genere un mapa interactivo con un popup con el nombre del area comunitaria."
   ]
  },
  {
   "cell_type": "code",
   "execution_count": null,
   "id": "aed8458e",
   "metadata": {},
   "outputs": [],
   "source": [
    "# Utilice este espacio para escribir el código."
   ]
  },
  {
   "cell_type": "markdown",
   "id": "3fc38d31",
   "metadata": {},
   "source": [
    "(Utilice este espacio para describir su procedimiento)."
   ]
  },
  {
   "cell_type": "markdown",
   "id": "a507b795",
   "metadata": {},
   "source": [
    "### 2.   Análisis distribución del crimen por barrios\n",
    "\n",
    "#### 2.1.  Genere una tabla descriptiva donde se muestra el número total de delitos, el número total de robos y el número total de homicidios, y como porcentaje de total por barrios. La tabla debe contener ademas una fila final donde se muestre el total para la ciudad. Describa los resultados que obtiene.\n"
   ]
  },
  {
   "cell_type": "code",
   "execution_count": null,
   "id": "9e6a4a17",
   "metadata": {},
   "outputs": [],
   "source": [
    "# Utilice este espacio para escribir el código."
   ]
  },
  {
   "cell_type": "markdown",
   "id": "00198bf9",
   "metadata": {},
   "source": [
    "(Utilice este espacio para describir el procedimiento, análisis, y conclusiones)"
   ]
  },
  {
   "cell_type": "markdown",
   "id": "da65c5a5",
   "metadata": {},
   "source": [
    "#### 2.2. Genere una gráfica de dispersión entre el total de homicidios y robos por barrios. Incluya en la gráfica la recta de regresión que mejor ajusta a esos datos. Describa los resultados que obtiene."
   ]
  },
  {
   "cell_type": "code",
   "execution_count": null,
   "id": "fb0f6d0e",
   "metadata": {},
   "outputs": [],
   "source": [
    "# Utilice este espacio para escribir el código."
   ]
  },
  {
   "cell_type": "markdown",
   "id": "69e81eb7",
   "metadata": {},
   "source": [
    "(Utilice este espacio para describir el procedimiento, análisis, y conclusiones)"
   ]
  },
  {
   "cell_type": "markdown",
   "id": "b2c6a5be",
   "metadata": {},
   "source": [
    "### 3. Distribución espacial del delito\n",
    "\n",
    "#### 3.1 Distribución respecto al centro de la ciudad\n",
    "\n",
    "Tomando como centro de la ciudad las coordenadas (-87.627800, 41.881998), estime funciones de densidad que muestren gráficamente el gradiente del total de robos, y homicidios, como función de la distancia al centro de la ciudad. Explique cómo midió las distancias incluyendo que medida de distancia utilizó. Para elegir el ancho de banda y la función de kernel más apropiados utilice validación cruzada usando todas las opciones posibles de kernel. Describa los resultados que obtiene."
   ]
  },
  {
   "cell_type": "code",
   "execution_count": null,
   "id": "af3bca18",
   "metadata": {},
   "outputs": [],
   "source": [
    "# Utilice este espacio para escribir el código."
   ]
  },
  {
   "cell_type": "markdown",
   "id": "48a76434",
   "metadata": {},
   "source": [
    "(Utilice este espacio para describir el procedimiento, análisis, y conclusiones)"
   ]
  },
  {
   "cell_type": "markdown",
   "id": "34249325",
   "metadata": {},
   "source": [
    "### 3.2 Puntos calientes en la ciudad\n",
    "\n",
    "Usando `statsmodels` implemente la estimación de densidad bivariada para el total de robos y el total de homicidios. Muestre los resultados usando curvas de nivel en una visualización interactiva. Compare los resultados de estimar usando los anchos de banda: `normal_reference` y `cv_ml`. Explique en que consisten ambas formas de estimar el ancho de banda. Comente sobre los puntos calientes encontrados bajo ambos métodos y su ubicación en la ciudad. (Esto puede tomar mucho tiempo y requerir mucha capacidad computacional, puede aprovechar los recursos de [Google Colab](https://colab.research.google.com/))"
   ]
  },
  {
   "cell_type": "code",
   "execution_count": null,
   "id": "6a810300",
   "metadata": {},
   "outputs": [],
   "source": [
    "# Utilice este espacio para escribir el código."
   ]
  },
  {
   "cell_type": "markdown",
   "id": "77986ba2",
   "metadata": {},
   "source": [
    "(Utilice este espacio para describir el procedimiento, análisis, y conclusiones)"
   ]
  },
  {
   "cell_type": "markdown",
   "id": "0e2b092f",
   "metadata": {},
   "source": [
    "## 4. Explicando la ubicación del delito\n",
    "\n",
    "El objetivo de este punto es encontrar posibles correlaciones  entre el crimen y características de la ciudad. Para ello, utilice los datos de OpenStreetMap y explore si existe una correlación entre el porcentaje del área de la comunidad  dedicado a tiendas (`retail`)  y comercios (`commercial`) y el número total de robos y homicidios en esa comunidad. Ofrezca una explicación intuitiva de por qué cree que aparecen estas correlaciones. (Esto puede tomar mucho tiempo y requerir mucha capacidad computacional, puede aprovechar los recursos de [Google Colab](https://colab.research.google.com/))"
   ]
  },
  {
   "cell_type": "code",
   "execution_count": null,
   "id": "7f925ab5",
   "metadata": {},
   "outputs": [],
   "source": [
    "# Utilice este espacio para escribir el código."
   ]
  },
  {
   "cell_type": "markdown",
   "id": "6a062d05",
   "metadata": {},
   "source": [
    "(Utilice este espacio para describir el procedimiento, análisis, y conclusiones)"
   ]
  }
 ],
 "metadata": {
  "kernelspec": {
   "display_name": "Python 3 (ipykernel)",
   "language": "python",
   "name": "python3"
  },
  "language_info": {
   "codemirror_mode": {
    "name": "ipython",
    "version": 3
   },
   "file_extension": ".py",
   "mimetype": "text/x-python",
   "name": "python",
   "nbconvert_exporter": "python",
   "pygments_lexer": "ipython3",
   "version": "3.11.7"
  },
  "toc": {
   "base_numbering": 1,
   "nav_menu": {},
   "number_sections": true,
   "sideBar": true,
   "skip_h1_title": false,
   "title_cell": "Table of Contents",
   "title_sidebar": "Contents",
   "toc_cell": false,
   "toc_position": {},
   "toc_section_display": true,
   "toc_window_display": false
  }
 },
 "nbformat": 4,
 "nbformat_minor": 5
}
